{
 "cells": [
  {
   "cell_type": "markdown",
   "id": "e3017ff7-0563-4160-a2c2-dd6dfd9c76ba",
   "metadata": {},
   "source": [
    "# Data Science Tools and Ecosystem"
   ]
  },
  {
   "cell_type": "markdown",
   "id": "a7ef5797-b329-45e8-abde-b972432cb2f5",
   "metadata": {},
   "source": [
    "## In this notebook, data science Tools and Ecosystems are summarised"
   ]
  },
  {
   "cell_type": "markdown",
   "id": "f32d49a1-bebe-4e04-9959-769b34a42f9d",
   "metadata": {
    "editable": true,
    "slideshow": {
     "slide_type": ""
    },
    "tags": []
   },
   "source": [
    "## **Objectives**\n",
    "- List popular Languages used by data scientists\n",
    "- List ommonly used libraries used by data scientists\n",
    "- List examples of arithmetic-based evaluation in Jupyter Notebokoks "
   ]
  },
  {
   "cell_type": "markdown",
   "id": "03a7e568-6d72-4c12-b822-a4b5f3434200",
   "metadata": {},
   "source": [
    "### Some of the popular languages that data scientists use are:\n",
    "1. Python\n",
    "2. Java\n",
    "3. R"
   ]
  },
  {
   "cell_type": "markdown",
   "id": "7a70afd8-3d8f-4ca7-bddc-22b10acf5c82",
   "metadata": {},
   "source": [
    "### Some of the commonly used libraries used by Data Scientists Include:\n",
    "1. NumPy\n",
    "2. Matplotlib\n",
    "3. Pandas"
   ]
  },
  {
   "cell_type": "markdown",
   "id": "01ecdc9a-6d96-4def-9a07-bf37b238eb99",
   "metadata": {
    "editable": true,
    "slideshow": {
     "slide_type": ""
    },
    "tags": []
   },
   "source": [
    "| Data Science Tools | \n",
    "|--------------------| \n",
    "| Jupyter Notebooks | \n",
    "| R Studio | \n",
    "| VS Code  | \n"
   ]
  },
  {
   "cell_type": "markdown",
   "id": "c137e901-3ae4-4baa-b433-16cec56da35d",
   "metadata": {},
   "source": [
    "### Below are a few examples of evaluating arithmetic expressions within Python"
   ]
  },
  {
   "cell_type": "code",
   "execution_count": 11,
   "id": "2a1b2bd6-3ab3-4f6c-90b8-17f25c680571",
   "metadata": {},
   "outputs": [
    {
     "data": {
      "text/plain": [
       "17"
      ]
     },
     "execution_count": 11,
     "metadata": {},
     "output_type": "execute_result"
    }
   ],
   "source": [
    "# This is a simple arithmetic expression in python \n",
    "(3*4)+5"
   ]
  },
  {
   "cell_type": "code",
   "execution_count": 9,
   "id": "ea612a7b-5908-4780-9a7a-5dfe6c0e63f8",
   "metadata": {},
   "outputs": [
    {
     "data": {
      "text/plain": [
       "33.333333333333336"
      ]
     },
     "execution_count": 9,
     "metadata": {},
     "output_type": "execute_result"
    }
   ],
   "source": [
    "#This will convert 200 minutes to hours by diving by 60\n",
    "200/6"
   ]
  },
  {
   "cell_type": "markdown",
   "id": "af675df6-1b82-4aac-a702-84df83b1aa0b",
   "metadata": {},
   "source": [
    "## Author \n",
    "##### Jason Farrance"
   ]
  }
 ],
 "metadata": {
  "kernelspec": {
   "display_name": "Python 3 (ipykernel)",
   "language": "python",
   "name": "python3"
  },
  "language_info": {
   "codemirror_mode": {
    "name": "ipython",
    "version": 3
   },
   "file_extension": ".py",
   "mimetype": "text/x-python",
   "name": "python",
   "nbconvert_exporter": "python",
   "pygments_lexer": "ipython3",
   "version": "3.12.8"
  }
 },
 "nbformat": 4,
 "nbformat_minor": 5
}
