{
 "cells": [
  {
   "cell_type": "code",
   "execution_count": null,
   "id": "4309cac2-2b95-40a4-bdb2-053dc245ec61",
   "metadata": {},
   "outputs": [],
   "source": []
  },
  {
   "cell_type": "markdown",
   "id": "755d3542-d7a9-4a29-bdc0-e523ab453b0e",
   "metadata": {},
   "source": [
    "# Data Science Tools and Ecosystems"
   ]
  },
  {
   "cell_type": "markdown",
   "id": "1cc5b2ed-4d33-45c5-a609-eeb5a24d7c75",
   "metadata": {},
   "source": [
    "#### In this notebook, Data Science Toools and Ecosystem are summarised "
   ]
  },
  {
   "cell_type": "markdown",
   "id": "6ef1ae3c-d1b2-4189-9ba3-0e21381bf52e",
   "metadata": {},
   "source": [
    "##### Some of the popular languages that Data scientists use are:\n",
    "1. Python\n",
    "2. R\n",
    "3. SQL\n",
    "4. JAVA\n",
    "5. Julia"
   ]
  },
  {
   "cell_type": "markdown",
   "id": "f45b05e9-6dca-4b6f-832f-05c28ea09e29",
   "metadata": {},
   "source": [
    "| Data Science Tools |\n",
    "|:------------------ |\n",
    "| Jupyter |\n",
    "| TensorFlow |\n",
    "| R Studio |"
   ]
  },
  {
   "cell_type": "markdown",
   "id": "3d340b7c-f06d-4c6b-8b82-154ba888f90c",
   "metadata": {},
   "source": [
    "### Below are a few examples of evaluating arithmetic expressions in Python"
   ]
  },
  {
   "cell_type": "code",
   "execution_count": null,
   "id": "3de72412-20c3-45f0-a030-de9e725d7120",
   "metadata": {},
   "outputs": [],
   "source": []
  }
 ],
 "metadata": {
  "kernelspec": {
   "display_name": "Python 3 (ipykernel)",
   "language": "python",
   "name": "python3"
  },
  "language_info": {
   "codemirror_mode": {
    "name": "ipython",
    "version": 3
   },
   "file_extension": ".py",
   "mimetype": "text/x-python",
   "name": "python",
   "nbconvert_exporter": "python",
   "pygments_lexer": "ipython3",
   "version": "3.12.8"
  }
 },
 "nbformat": 4,
 "nbformat_minor": 5
}
